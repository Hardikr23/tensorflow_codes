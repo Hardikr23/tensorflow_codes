{
  "nbformat": 4,
  "nbformat_minor": 0,
  "metadata": {
    "colab": {
      "name": "training_with_imageGenerator.ipynb",
      "provenance": [],
      "collapsed_sections": [],
      "authorship_tag": "ABX9TyPNkANnXZ0pcANkup/3WvBN",
      "include_colab_link": true
    },
    "kernelspec": {
      "name": "python3",
      "display_name": "Python 3"
    },
    "language_info": {
      "name": "python"
    }
  },
  "cells": [
    {
      "cell_type": "markdown",
      "metadata": {
        "id": "view-in-github",
        "colab_type": "text"
      },
      "source": [
        "<a href=\"https://colab.research.google.com/github/Hardikr23/tensorflow_codes/blob/main/training_with_imageGenerator.ipynb\" target=\"_parent\"><img src=\"https://colab.research.google.com/assets/colab-badge.svg\" alt=\"Open In Colab\"/></a>"
      ]
    },
    {
      "cell_type": "code",
      "execution_count": 1,
      "metadata": {
        "colab": {
          "base_uri": "https://localhost:8080/"
        },
        "id": "WlF6HjoVDixA",
        "outputId": "07b9dcd7-0230-4613-9199-af3a9047d9b2"
      },
      "outputs": [
        {
          "output_type": "stream",
          "name": "stdout",
          "text": [
            "Access denied with the following error:\n",
            "\n",
            " \tCannot retrieve the public link of the file. You may need to change\n",
            "\tthe permission to 'Anyone with the link', or have had many accesses. \n",
            "\n",
            "You may still be able to access the file from the browser:\n",
            "\n",
            "\t https://drive.google.com/uc?id=1onaG42NZft3wCE1WH0GDEbUhu75fedP5 \n",
            "\n"
          ]
        }
      ],
      "source": [
        "!gdown --id 1onaG42NZft3wCE1WH0GDEbUhu75fedP5"
      ]
    },
    {
      "cell_type": "code",
      "source": [
        "%%writefile download.sh\n",
        "\n",
        "#!/bin/bash\n",
        "fileid=\"1onaG42NZft3wCE1WH0GDEbUhu75fedP5\"\n",
        "filename=\"horse-or-human.zip\"\n",
        "html=`curl -c ./cookie -s -L \"https://drive.google.com/uc?export=download&id=${fileid}\"`\n",
        "curl -Lb ./cookie \"https://drive.google.com/uc?export=download&`echo ${html}|grep -Po '(confirm=[a-zA-Z0-9\\-_]+)'`&id=${fileid}\" -o ${filename}"
      ],
      "metadata": {
        "colab": {
          "base_uri": "https://localhost:8080/"
        },
        "id": "_4_PDDuMFYII",
        "outputId": "10410be8-a106-415a-b618-84207f860176"
      },
      "execution_count": 5,
      "outputs": [
        {
          "output_type": "stream",
          "name": "stdout",
          "text": [
            "Writing download.sh\n"
          ]
        }
      ]
    },
    {
      "cell_type": "code",
      "source": [
        "# NOTE: Please only run this if downloading with gdown did not work.\n",
        "# This will run the script created above.\n",
        "!bash download.sh"
      ],
      "metadata": {
        "colab": {
          "base_uri": "https://localhost:8080/"
        },
        "id": "fxTrzA5gFWt6",
        "outputId": "3bcfd073-57b6-41f8-d049-b0ca408451a0"
      },
      "execution_count": 6,
      "outputs": [
        {
          "output_type": "stream",
          "name": "stdout",
          "text": [
            "  % Total    % Received % Xferd  Average Speed   Time    Time     Time  Current\n",
            "                                 Dload  Upload   Total   Spent    Left  Speed\n",
            "  0     0    0     0    0     0      0      0 --:--:-- --:--:-- --:--:--     0\n",
            "100  142M  100  142M    0     0  41.8M      0  0:00:03  0:00:03 --:--:-- 59.5M\n"
          ]
        }
      ]
    },
    {
      "cell_type": "code",
      "source": [
        "import zipfile\n",
        "\n",
        "# Unzip the dataset\n",
        "local_zip = './horse-or-human.zip'\n",
        "zip_ref = zipfile.ZipFile(local_zip, 'r')\n",
        "zip_ref.extractall('./horse-or-human')\n",
        "zip_ref.close()"
      ],
      "metadata": {
        "id": "67kQmuNXEU8g"
      },
      "execution_count": 7,
      "outputs": []
    },
    {
      "cell_type": "code",
      "source": [
        "# loading the data file paths\n",
        "import os\n",
        "\n",
        "train_horse_imgs = os.path.join('./horse-or-human/horses')\n",
        "train_human_imgs = os.path.join('./horse-or-human/humans')"
      ],
      "metadata": {
        "id": "qjLdQ9VrE6p7"
      },
      "execution_count": 8,
      "outputs": []
    },
    {
      "cell_type": "code",
      "source": [
        "train_horse_names = os.listdir(train_horse_imgs)\n",
        "train_human_names = os.listdir(train_human_imgs)\n",
        "print(train_human_names)"
      ],
      "metadata": {
        "colab": {
          "base_uri": "https://localhost:8080/"
        },
        "id": "aZ8cCK3EHyL9",
        "outputId": "0b9326f8-2686-48ba-f041-e954f1d6a069"
      },
      "execution_count": 10,
      "outputs": [
        {
          "output_type": "stream",
          "name": "stdout",
          "text": [
            "human08-09.png\n"
          ]
        }
      ]
    },
    {
      "cell_type": "code",
      "source": [
        ""
      ],
      "metadata": {
        "id": "OKIjrfndJYZj"
      },
      "execution_count": null,
      "outputs": []
    }
  ]
}