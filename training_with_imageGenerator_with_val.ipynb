{
  "nbformat": 4,
  "nbformat_minor": 0,
  "metadata": {
    "colab": {
      "name": "training_with_imageGenerator.ipynb",
      "provenance": [],
      "collapsed_sections": [],
      "authorship_tag": "ABX9TyNRW/38gKhMCykLUGf/DDjf",
      "include_colab_link": true
    },
    "kernelspec": {
      "name": "python3",
      "display_name": "Python 3"
    },
    "language_info": {
      "name": "python"
    },
    "accelerator": "GPU"
  },
  "cells": [
    {
      "cell_type": "markdown",
      "metadata": {
        "id": "view-in-github",
        "colab_type": "text"
      },
      "source": [
        "<a href=\"https://colab.research.google.com/github/Hardikr23/tensorflow_codes/blob/main/training_with_imageGenerator_with_val.ipynb\" target=\"_parent\"><img src=\"https://colab.research.google.com/assets/colab-badge.svg\" alt=\"Open In Colab\"/></a>"
      ]
    },
    {
      "cell_type": "code",
      "execution_count": 2,
      "metadata": {
        "colab": {
          "base_uri": "https://localhost:8080/"
        },
        "id": "WlF6HjoVDixA",
        "outputId": "2893bd60-9906-4179-895f-fe884acd9fca"
      },
      "outputs": [
        {
          "output_type": "stream",
          "name": "stdout",
          "text": [
            "Access denied with the following error:\n",
            "\n",
            " \tCannot retrieve the public link of the file. You may need to change\n",
            "\tthe permission to 'Anyone with the link', or have had many accesses. \n",
            "\n",
            "You may still be able to access the file from the browser:\n",
            "\n",
            "\t https://drive.google.com/uc?id=1onaG42NZft3wCE1WH0GDEbUhu75fedP5 \n",
            "\n"
          ]
        }
      ],
      "source": [
        "!gdown --id 1onaG42NZft3wCE1WH0GDEbUhu75fedP5"
      ]
    },
    {
      "cell_type": "code",
      "source": [
        "%%writefile download.sh\n",
        "\n",
        "#!/bin/bash\n",
        "fileid=\"1onaG42NZft3wCE1WH0GDEbUhu75fedP5\"\n",
        "filename=\"horse-or-human.zip\"\n",
        "html=`curl -c ./cookie -s -L \"https://drive.google.com/uc?export=download&id=${fileid}\"`\n",
        "curl -Lb ./cookie \"https://drive.google.com/uc?export=download&`echo ${html}|grep -Po '(confirm=[a-zA-Z0-9\\-_]+)'`&id=${fileid}\" -o ${filename}"
      ],
      "metadata": {
        "colab": {
          "base_uri": "https://localhost:8080/"
        },
        "id": "_4_PDDuMFYII",
        "outputId": "cba6b9ae-f246-4443-bd0b-229f194520f4"
      },
      "execution_count": 3,
      "outputs": [
        {
          "output_type": "stream",
          "name": "stdout",
          "text": [
            "Overwriting download.sh\n"
          ]
        }
      ]
    },
    {
      "cell_type": "code",
      "source": [
        "# NOTE: Please only run this if downloading with gdown did not work.\n",
        "# This will run the script created above.\n",
        "!bash download.sh"
      ],
      "metadata": {
        "colab": {
          "base_uri": "https://localhost:8080/"
        },
        "id": "fxTrzA5gFWt6",
        "outputId": "f4475af0-9519-47ad-9f19-5afdbc5db8b8"
      },
      "execution_count": 4,
      "outputs": [
        {
          "output_type": "stream",
          "name": "stdout",
          "text": [
            "  % Total    % Received % Xferd  Average Speed   Time    Time     Time  Current\n",
            "                                 Dload  Upload   Total   Spent    Left  Speed\n",
            "  0     0    0     0    0     0      0      0 --:--:-- --:--:-- --:--:--     0\n",
            "100  142M  100  142M    0     0   117M      0  0:00:01  0:00:01 --:--:--  208M\n"
          ]
        }
      ]
    },
    {
      "cell_type": "code",
      "source": [
        "import zipfile\n",
        "\n",
        "# Unzip the dataset\n",
        "local_zip = './horse-or-human.zip'\n",
        "zip_ref = zipfile.ZipFile(local_zip, 'r')\n",
        "zip_ref.extractall('./horse-or-human')\n",
        "zip_ref.close()"
      ],
      "metadata": {
        "id": "67kQmuNXEU8g"
      },
      "execution_count": 5,
      "outputs": []
    },
    {
      "cell_type": "code",
      "source": [
        "# loading the data file paths\n",
        "import os\n",
        "\n",
        "train_horse_imgs = os.path.join('./horse-or-human/horses')\n",
        "train_human_imgs = os.path.join('./horse-or-human/humans')"
      ],
      "metadata": {
        "id": "qjLdQ9VrE6p7"
      },
      "execution_count": 6,
      "outputs": []
    },
    {
      "cell_type": "code",
      "source": [
        "train_horse_names = os.listdir(train_horse_imgs)\n",
        "train_human_names = os.listdir(train_human_imgs)\n",
        "print(train_human_names)"
      ],
      "metadata": {
        "colab": {
          "base_uri": "https://localhost:8080/"
        },
        "id": "aZ8cCK3EHyL9",
        "outputId": "f08f6c1a-565c-42bc-f8b2-8ba7c86dc2dc"
      },
      "execution_count": 7,
      "outputs": [
        {
          "output_type": "stream",
          "name": "stdout",
          "text": [
            "['human01-14.png', 'human06-15.png', 'human14-18.png', 'human02-27.png', 'human10-24.png', 'human14-19.png', 'human05-06.png', 'human05-05.png', 'human14-08.png', 'human01-17.png', 'human04-05.png', 'human06-01.png', 'human06-03.png', 'human08-14.png', 'human17-13.png', 'human17-25.png', 'human02-30.png', 'human01-20.png', 'human09-02.png', 'human07-02.png', 'human13-22.png', 'human08-18.png', 'human02-13.png', 'human15-02.png', 'human10-09.png', 'human15-20.png', 'human09-21.png', 'human15-09.png', 'human01-05.png', 'human17-18.png', 'human06-20.png', 'human12-11.png', 'human04-13.png', 'human12-29.png', 'human16-21.png', 'human17-26.png', 'human15-06.png', 'human15-22.png', 'human02-12.png', 'human07-19.png', 'human01-28.png', 'human03-17.png', 'human13-10.png', 'human13-23.png', 'human14-24.png', 'human01-06.png', 'human16-27.png', 'human07-04.png', 'human05-16.png', 'human09-29.png', 'human12-13.png', 'human17-02.png', 'human10-23.png', 'human03-26.png', 'human02-06.png', 'human13-03.png', 'human08-04.png', 'human17-08.png', 'human14-12.png', 'human13-01.png', 'human07-17.png', 'human09-16.png', 'human11-12.png', 'human04-17.png', 'human10-06.png', 'human16-23.png', 'human13-07.png', 'human04-03.png', 'human07-12.png', 'human08-13.png', 'human02-20.png', 'human05-17.png', 'human08-21.png', 'human16-08.png', 'human08-30.png', 'human03-12.png', 'human10-25.png', 'human04-18.png', 'human07-25.png', 'human01-25.png', 'human14-30.png', 'human03-05.png', 'human04-25.png', 'human16-12.png', 'human03-02.png', 'human15-03.png', 'human04-07.png', 'human01-09.png', 'human14-20.png', 'human03-21.png', 'human09-17.png', 'human13-09.png', 'human04-26.png', 'human10-30.png', 'human14-15.png', 'human13-04.png', 'human17-23.png', 'human05-19.png', 'human02-05.png', 'human10-16.png', 'human03-04.png', 'human14-16.png', 'human10-17.png', 'human04-28.png', 'human03-28.png', 'human06-08.png', 'human03-18.png', 'human01-08.png', 'human14-04.png', 'human04-12.png', 'human14-23.png', 'human10-18.png', 'human02-00.png', 'human07-09.png', 'human15-15.png', 'human12-19.png', 'human12-05.png', 'human02-03.png', 'human04-27.png', 'human09-30.png', 'human16-01.png', 'human08-02.png', 'human14-05.png', 'human13-13.png', 'human17-11.png', 'human06-14.png', 'human10-12.png', 'human15-11.png', 'human03-14.png', 'human03-10.png', 'human02-17.png', 'human04-14.png', 'human17-01.png', 'human10-13.png', 'human16-14.png', 'human09-08.png', 'human13-00.png', 'human06-28.png', 'human08-28.png', 'human06-26.png', 'human05-04.png', 'human07-28.png', 'human13-27.png', 'human06-07.png', 'human11-20.png', 'human11-16.png', 'human17-24.png', 'human11-29.png', 'human01-07.png', 'human16-28.png', 'human03-29.png', 'human04-16.png', 'human08-26.png', 'human08-06.png', 'human06-18.png', 'human08-19.png', 'human08-15.png', 'human03-19.png', 'human13-21.png', 'human11-17.png', 'human16-11.png', 'human12-09.png', 'human11-22.png', 'human12-21.png', 'human17-20.png', 'human09-20.png', 'human17-28.png', 'human15-17.png', 'human13-20.png', 'human10-05.png', 'human02-02.png', 'human16-02.png', 'human12-14.png', 'human02-19.png', 'human07-08.png', 'human17-06.png', 'human01-12.png', 'human12-28.png', 'human11-19.png', 'human04-30.png', 'human10-10.png', 'human15-08.png', 'human05-18.png', 'human12-03.png', 'human14-25.png', 'human17-07.png', 'human16-20.png', 'human14-28.png', 'human09-23.png', 'human09-06.png', 'human14-27.png', 'human14-21.png', 'human14-03.png', 'human13-28.png', 'human08-09.png', 'human16-16.png', 'human14-07.png', 'human15-16.png', 'human08-01.png', 'human14-02.png', 'human01-26.png', 'human17-16.png', 'human17-22.png', 'human02-24.png', 'human01-03.png', 'human04-19.png', 'human01-19.png', 'human05-03.png', 'human08-27.png', 'human03-09.png', 'human12-23.png', 'human08-22.png', 'human16-04.png', 'human16-09.png', 'human11-15.png', 'human02-16.png', 'human11-26.png', 'human05-07.png', 'human05-08.png', 'human11-07.png', 'human06-05.png', 'human01-13.png', 'human06-25.png', 'human14-09.png', 'human16-22.png', 'human01-02.png', 'human05-10.png', 'human01-16.png', 'human04-04.png', 'human17-21.png', 'human09-15.png', 'human03-23.png', 'human07-10.png', 'human08-23.png', 'human03-30.png', 'human15-28.png', 'human06-22.png', 'human03-20.png', 'human05-13.png', 'human13-15.png', 'human11-24.png', 'human09-25.png', 'human04-23.png', 'human01-18.png', 'human13-30.png', 'human03-24.png', 'human13-16.png', 'human13-26.png', 'human09-28.png', 'human10-26.png', 'human16-13.png', 'human05-24.png', 'human06-29.png', 'human14-26.png', 'human16-18.png', 'human07-30.png', 'human09-07.png', 'human10-08.png', 'human06-17.png', 'human12-07.png', 'human02-18.png', 'human04-08.png', 'human04-00.png', 'human10-15.png', 'human15-14.png', 'human11-23.png', 'human05-11.png', 'human05-02.png', 'human03-25.png', 'human06-00.png', 'human07-15.png', 'human08-25.png', 'human17-19.png', 'human11-02.png', 'human15-27.png', 'human10-19.png', 'human14-14.png', 'human12-12.png', 'human08-08.png', 'human12-17.png', 'human14-01.png', 'human14-06.png', 'human10-21.png', 'human11-05.png', 'human03-03.png', 'human04-09.png', 'human12-30.png', 'human13-05.png', 'human09-22.png', 'human07-20.png', 'human03-16.png', 'human15-13.png', 'human10-04.png', 'human02-09.png', 'human15-12.png', 'human14-22.png', 'human03-00.png', 'human07-11.png', 'human06-13.png', 'human17-30.png', 'human01-23.png', 'human12-18.png', 'human08-29.png', 'human15-23.png', 'human07-01.png', 'human11-00.png', 'human08-10.png', 'human07-18.png', 'human10-20.png', 'human10-27.png', 'human16-03.png', 'human03-27.png', 'human11-13.png', 'human04-11.png', 'human11-28.png', 'human09-00.png', 'human07-26.png', 'human14-29.png', 'human04-10.png', 'human12-02.png', 'human09-26.png', 'human08-12.png', 'human15-10.png', 'human12-24.png', 'human17-14.png', 'human06-21.png', 'human11-08.png', 'human09-11.png', 'human02-29.png', 'human06-10.png', 'human17-12.png', 'human14-17.png', 'human16-06.png', 'human08-16.png', 'human02-11.png', 'human03-11.png', 'human02-23.png', 'human11-04.png', 'human09-19.png', 'human07-22.png', 'human11-11.png', 'human13-06.png', 'human07-07.png', 'human07-27.png', 'human03-07.png', 'human06-16.png', 'human04-15.png', 'human13-17.png', 'human01-29.png', 'human16-00.png', 'human16-25.png', 'human09-18.png', 'human15-19.png', 'human01-10.png', 'human15-05.png', 'human05-14.png', 'human15-29.png', 'human15-04.png', 'human09-04.png', 'human03-22.png', 'human10-28.png', 'human13-19.png', 'human02-14.png', 'human05-27.png', 'human11-30.png', 'human12-16.png', 'human05-15.png', 'human01-00.png', 'human02-28.png', 'human04-29.png', 'human07-03.png', 'human12-10.png', 'human09-12.png', 'human06-19.png', 'human12-08.png', 'human13-29.png', 'human13-25.png', 'human02-08.png', 'human02-04.png', 'human11-18.png', 'human02-22.png', 'human10-11.png', 'human03-15.png', 'human12-04.png', 'human15-00.png', 'human09-24.png', 'human09-01.png', 'human05-12.png', 'human14-10.png', 'human01-30.png', 'human09-10.png', 'human17-09.png', 'human08-24.png', 'human10-14.png', 'human09-05.png', 'human04-06.png', 'human09-14.png', 'human07-14.png', 'human07-13.png', 'human06-27.png', 'human02-26.png', 'human08-03.png', 'human05-26.png', 'human13-02.png', 'human04-21.png', 'human13-14.png', 'human15-18.png', 'human16-10.png', 'human10-07.png', 'human01-15.png', 'human16-17.png', 'human02-10.png', 'human14-00.png', 'human06-11.png', 'human12-27.png', 'human13-11.png', 'human07-29.png', 'human16-19.png', 'human05-21.png', 'human08-17.png', 'human03-08.png', 'human06-04.png', 'human04-20.png', 'human05-30.png', 'human06-30.png', 'human02-21.png', 'human12-26.png', 'human06-24.png', 'human10-00.png', 'human08-05.png', 'human17-04.png', 'human04-02.png', 'human04-22.png', 'human17-00.png', 'human11-06.png', 'human11-03.png', 'human08-07.png', 'human10-03.png', 'human03-06.png', 'human08-20.png', 'human01-04.png', 'human06-23.png', 'human02-07.png', 'human04-01.png', 'human10-02.png', 'human16-15.png', 'human17-15.png', 'human07-23.png', 'human11-21.png', 'human16-24.png', 'human07-21.png', 'human13-24.png', 'human07-00.png', 'human10-22.png', 'human16-26.png', 'human06-09.png', 'human17-29.png', 'human01-22.png', 'human05-23.png', 'human12-06.png', 'human16-30.png', 'human09-03.png', 'human10-29.png', 'human12-15.png', 'human15-30.png', 'human01-27.png', 'human10-01.png', 'human09-09.png', 'human11-14.png', 'human16-29.png', 'human15-25.png', 'human09-13.png', 'human09-27.png', 'human05-20.png', 'human06-12.png', 'human17-03.png', 'human07-05.png', 'human12-00.png', 'human12-20.png', 'human11-25.png', 'human06-02.png', 'human17-10.png', 'human15-26.png', 'human08-11.png', 'human14-11.png', 'human17-05.png', 'human15-24.png', 'human03-01.png', 'human11-10.png', 'human02-25.png', 'human01-21.png', 'human11-09.png', 'human15-07.png', 'human05-28.png', 'human17-17.png', 'human05-29.png', 'human04-24.png', 'human14-13.png', 'human07-24.png', 'human13-18.png', 'human16-07.png', 'human07-16.png', 'human02-01.png', 'human12-22.png', 'human05-22.png', 'human11-27.png', 'human01-01.png', 'human07-06.png', 'human17-27.png', 'human13-08.png', 'human13-12.png', 'human11-01.png', 'human05-25.png', 'human02-15.png', 'human05-00.png', 'human08-00.png', 'human01-24.png', 'human05-09.png', 'human03-13.png', 'human06-06.png', 'human16-05.png', 'human12-25.png', 'human15-21.png', 'human12-01.png', 'human15-01.png', 'human01-11.png', 'human05-01.png']\n"
          ]
        }
      ]
    },
    {
      "cell_type": "code",
      "source": [
        "# Now we are ready to build the model\n",
        "\n",
        "import tensorflow as tf\n",
        "from tensorflow import keras\n",
        "\n",
        "model = keras.models.Sequential([\n",
        "                                #  1st convolutional layer\n",
        "                                 keras.layers.Conv2D(16, (3,3), activation='relu', input_shape=(300,300,3)),\n",
        "                                 keras.layers.MaxPooling2D(2,2),\n",
        "                                #  2nd convolutional layer\n",
        "                                 keras.layers.Conv2D(32, (3,3), activation='relu'),\n",
        "                                 keras.layers.MaxPooling2D(2,2),\n",
        "                                 #  3rd convolutional layer\n",
        "                                 keras.layers.Conv2D(64, (3,3), activation='relu'),\n",
        "                                 keras.layers.MaxPooling2D(2,2),\n",
        "                                 #  4th convolutional layer\n",
        "                                 keras.layers.Conv2D(64, (3,3), activation='relu'),\n",
        "                                 keras.layers.MaxPooling2D(2,2),\n",
        "                                 #  5th convolutional layer\n",
        "                                 keras.layers.Conv2D(64, (3,3), activation='relu'),\n",
        "                                 keras.layers.MaxPooling2D(2,2),\n",
        "                                #  Flattening layer\n",
        "                                 keras.layers.Flatten(),\n",
        "                                 keras.layers.Dense(512, activation='relu'),\n",
        "                                 keras.layers.Dense(1, activation='sigmoid')\n",
        "])"
      ],
      "metadata": {
        "id": "OKIjrfndJYZj"
      },
      "execution_count": 8,
      "outputs": []
    },
    {
      "cell_type": "code",
      "source": [
        "from tensorflow.keras.optimizers import RMSprop\n",
        "model.compile(optimizer=RMSprop(learning_rate=0.001), loss='binary_crossentropy', metrics=['accuracy'])"
      ],
      "metadata": {
        "id": "ukqtMSttPWGm"
      },
      "execution_count": 9,
      "outputs": []
    },
    {
      "cell_type": "code",
      "source": [
        "model.summary()"
      ],
      "metadata": {
        "colab": {
          "base_uri": "https://localhost:8080/"
        },
        "id": "6WHbcou6PndU",
        "outputId": "b42db50d-1201-4b5f-9a10-f779beee6024"
      },
      "execution_count": 10,
      "outputs": [
        {
          "output_type": "stream",
          "name": "stdout",
          "text": [
            "Model: \"sequential\"\n",
            "_________________________________________________________________\n",
            " Layer (type)                Output Shape              Param #   \n",
            "=================================================================\n",
            " conv2d (Conv2D)             (None, 298, 298, 16)      448       \n",
            "                                                                 \n",
            " max_pooling2d (MaxPooling2D  (None, 149, 149, 16)     0         \n",
            " )                                                               \n",
            "                                                                 \n",
            " conv2d_1 (Conv2D)           (None, 147, 147, 32)      4640      \n",
            "                                                                 \n",
            " max_pooling2d_1 (MaxPooling  (None, 73, 73, 32)       0         \n",
            " 2D)                                                             \n",
            "                                                                 \n",
            " conv2d_2 (Conv2D)           (None, 71, 71, 64)        18496     \n",
            "                                                                 \n",
            " max_pooling2d_2 (MaxPooling  (None, 35, 35, 64)       0         \n",
            " 2D)                                                             \n",
            "                                                                 \n",
            " conv2d_3 (Conv2D)           (None, 33, 33, 64)        36928     \n",
            "                                                                 \n",
            " max_pooling2d_3 (MaxPooling  (None, 16, 16, 64)       0         \n",
            " 2D)                                                             \n",
            "                                                                 \n",
            " conv2d_4 (Conv2D)           (None, 14, 14, 64)        36928     \n",
            "                                                                 \n",
            " max_pooling2d_4 (MaxPooling  (None, 7, 7, 64)         0         \n",
            " 2D)                                                             \n",
            "                                                                 \n",
            " flatten (Flatten)           (None, 3136)              0         \n",
            "                                                                 \n",
            " dense (Dense)               (None, 512)               1606144   \n",
            "                                                                 \n",
            " dense_1 (Dense)             (None, 1)                 513       \n",
            "                                                                 \n",
            "=================================================================\n",
            "Total params: 1,704,097\n",
            "Trainable params: 1,704,097\n",
            "Non-trainable params: 0\n",
            "_________________________________________________________________\n"
          ]
        }
      ]
    },
    {
      "cell_type": "code",
      "source": [
        "# preprocessing images for training purpose\n",
        "\n",
        "from tensorflow.keras.preprocessing.image import ImageDataGenerator\n",
        "\n",
        "train_datagen = ImageDataGenerator(rescale=1/255)\n",
        "\n",
        "train_generator = train_datagen.flow_from_directory('./horse-or-human',\n",
        "                                                    target_size=(300,300),\n",
        "                                                    batch_size=128,\n",
        "                                                    class_mode='binary'\n",
        "                                                    )"
      ],
      "metadata": {
        "colab": {
          "base_uri": "https://localhost:8080/"
        },
        "id": "gWVo-A0xPo7J",
        "outputId": "b1cd8c94-18ff-4b01-b1be-8c392561dd91"
      },
      "execution_count": 11,
      "outputs": [
        {
          "output_type": "stream",
          "name": "stdout",
          "text": [
            "Found 1027 images belonging to 2 classes.\n"
          ]
        }
      ]
    },
    {
      "cell_type": "code",
      "source": [
        "history = model.fit(\n",
        "    train_generator,\n",
        "    epochs=15,\n",
        "    verbose=1,\n",
        "    steps_per_epoch=8\n",
        ")"
      ],
      "metadata": {
        "colab": {
          "base_uri": "https://localhost:8080/"
        },
        "id": "n32ZkB6XSnl9",
        "outputId": "d1e60e82-d7e2-4e2f-a3f5-2b7cf1c6c65c"
      },
      "execution_count": 12,
      "outputs": [
        {
          "output_type": "stream",
          "name": "stdout",
          "text": [
            "Epoch 1/15\n",
            "8/8 [==============================] - 12s 784ms/step - loss: 0.7475 - accuracy: 0.5373\n",
            "Epoch 2/15\n",
            "8/8 [==============================] - 7s 838ms/step - loss: 0.7191 - accuracy: 0.6029\n",
            "Epoch 3/15\n",
            "8/8 [==============================] - 7s 834ms/step - loss: 0.5032 - accuracy: 0.8298\n",
            "Epoch 4/15\n",
            "8/8 [==============================] - 7s 841ms/step - loss: 1.1434 - accuracy: 0.7208\n",
            "Epoch 5/15\n",
            "8/8 [==============================] - 7s 844ms/step - loss: 0.4095 - accuracy: 0.8988\n",
            "Epoch 6/15\n",
            "8/8 [==============================] - 7s 853ms/step - loss: 0.2057 - accuracy: 0.9288\n",
            "Epoch 7/15\n",
            "8/8 [==============================] - 8s 933ms/step - loss: 0.1555 - accuracy: 0.9404\n",
            "Epoch 8/15\n",
            "8/8 [==============================] - 7s 838ms/step - loss: 0.2441 - accuracy: 0.9255\n",
            "Epoch 9/15\n",
            "8/8 [==============================] - 7s 807ms/step - loss: 0.1115 - accuracy: 0.9622\n",
            "Epoch 10/15\n",
            "8/8 [==============================] - 7s 833ms/step - loss: 0.1489 - accuracy: 0.9410\n",
            "Epoch 11/15\n",
            "8/8 [==============================] - 7s 832ms/step - loss: 0.0740 - accuracy: 0.9722\n",
            "Epoch 12/15\n",
            "8/8 [==============================] - 7s 845ms/step - loss: 0.1024 - accuracy: 0.9655\n",
            "Epoch 13/15\n",
            "8/8 [==============================] - 8s 932ms/step - loss: 0.1544 - accuracy: 0.9443\n",
            "Epoch 14/15\n",
            "8/8 [==============================] - 8s 1s/step - loss: 0.0984 - accuracy: 0.9600\n",
            "Epoch 15/15\n",
            "8/8 [==============================] - 8s 1s/step - loss: 2.5638 - accuracy: 0.9021\n"
          ]
        }
      ]
    },
    {
      "cell_type": "code",
      "source": [
        "# Download the validation set\n",
        "!gdown --id 1LYeusSEIiZQpwN-mthh5nKdA75VsKG1U"
      ],
      "metadata": {
        "id": "hte_QVH2W65v"
      },
      "execution_count": null,
      "outputs": []
    },
    {
      "cell_type": "code",
      "source": [
        "# Unzip validation set\n",
        "import zipfile\n",
        "local_zip = './validation-horse-or-human.zip'\n",
        "zip_ref = zipfile.ZipFile(local_zip, 'r')\n",
        "zip_ref.extractall('./validation-horse-or-human')\n",
        "\n",
        "zip_ref.close()"
      ],
      "metadata": {
        "id": "Yehn2aDZZH9_"
      },
      "execution_count": null,
      "outputs": []
    },
    {
      "cell_type": "code",
      "source": [
        "# Directory with validation horse pictures\n",
        "validation_horse_dir = os.path.join('./validation-horse-or-human/horses')\n",
        "\n",
        "# Directory with validation human pictures\n",
        "validation_human_dir = os.path.join('./validation-horse-or-human/humans')"
      ],
      "metadata": {
        "id": "yFEf7EN9ZOL9"
      },
      "execution_count": 14,
      "outputs": []
    },
    {
      "cell_type": "code",
      "source": [
        "validation_horse_names = os.listdir(validation_horse_dir)\n",
        "print(f'VAL SET HORSES: {validation_horse_names[:10]}')\n",
        "\n",
        "validation_human_names = os.listdir(validation_human_dir)\n",
        "print(f'VAL SET HUMANS: {validation_human_names[:10]}')"
      ],
      "metadata": {
        "colab": {
          "base_uri": "https://localhost:8080/"
        },
        "id": "oEsBLwtnZYGR",
        "outputId": "6b6cee91-767c-4df3-e66d-2f4a569c514d"
      },
      "execution_count": 15,
      "outputs": [
        {
          "output_type": "stream",
          "name": "stdout",
          "text": [
            "VAL SET HORSES: ['horse2-224.png', 'horse5-203.png', 'horse4-501.png', 'horse5-083.png', 'horse1-384.png', 'horse5-235.png', 'horse2-069.png', 'horse4-468.png', 'horse2-412.png', 'horse2-254.png']\n",
            "VAL SET HUMANS: ['valhuman04-14.png', 'valhuman02-11.png', 'valhuman05-26.png', 'valhuman04-09.png', 'valhuman04-01.png', 'valhuman01-05.png', 'valhuman02-24.png', 'valhuman01-17.png', 'valhuman02-13.png', 'valhuman01-09.png']\n"
          ]
        }
      ]
    },
    {
      "cell_type": "code",
      "source": [
        "validation_datagen = ImageDataGenerator(rescale=1/255)\n",
        "# Flow validation images in batches of 128 using validation_datagen generator\n",
        "validation_generator = validation_datagen.flow_from_directory(\n",
        "        './validation-horse-or-human/',  # This is the source directory for validation images\n",
        "        target_size=(300, 300),  # All images will be resized to 300x300\n",
        "        batch_size=32,\n",
        "        # Since you use binary_crossentropy loss, you need binary labels\n",
        "        class_mode='binary')"
      ],
      "metadata": {
        "colab": {
          "base_uri": "https://localhost:8080/"
        },
        "id": "06QFDMFsZk0s",
        "outputId": "c3a698fe-0195-4866-8b26-d9186b4d290e"
      },
      "execution_count": 16,
      "outputs": [
        {
          "output_type": "stream",
          "name": "stdout",
          "text": [
            "Found 256 images belonging to 2 classes.\n"
          ]
        }
      ]
    },
    {
      "cell_type": "code",
      "source": [
        "history = model.fit(\n",
        "      train_generator,\n",
        "      steps_per_epoch=8,  \n",
        "      epochs=15,\n",
        "      verbose=1,\n",
        "      validation_data = validation_generator,\n",
        "      validation_steps=8)"
      ],
      "metadata": {
        "colab": {
          "base_uri": "https://localhost:8080/"
        },
        "id": "-54jIjoaZ1TF",
        "outputId": "50bb6296-0276-4e70-85b7-41710d9c51af"
      },
      "execution_count": 17,
      "outputs": [
        {
          "output_type": "stream",
          "name": "stdout",
          "text": [
            "Epoch 1/15\n",
            "8/8 [==============================] - 10s 1s/step - loss: 0.0858 - accuracy: 0.9766 - val_loss: 1.8595 - val_accuracy: 0.7734\n",
            "Epoch 2/15\n",
            "8/8 [==============================] - 9s 1s/step - loss: 0.0558 - accuracy: 0.9844 - val_loss: 1.7349 - val_accuracy: 0.7891\n",
            "Epoch 3/15\n",
            "8/8 [==============================] - 9s 1s/step - loss: 0.0240 - accuracy: 0.9944 - val_loss: 2.6759 - val_accuracy: 0.7812\n",
            "Epoch 4/15\n",
            "8/8 [==============================] - 9s 1s/step - loss: 0.0121 - accuracy: 0.9967 - val_loss: 2.0082 - val_accuracy: 0.8320\n",
            "Epoch 5/15\n",
            "8/8 [==============================] - 8s 1s/step - loss: 0.0674 - accuracy: 0.9789 - val_loss: 1.2435 - val_accuracy: 0.7539\n",
            "Epoch 6/15\n",
            "8/8 [==============================] - 8s 1s/step - loss: 0.0817 - accuracy: 0.9611 - val_loss: 2.0949 - val_accuracy: 0.8164\n",
            "Epoch 7/15\n",
            "8/8 [==============================] - 8s 1s/step - loss: 0.0066 - accuracy: 1.0000 - val_loss: 2.7475 - val_accuracy: 0.7930\n",
            "Epoch 8/15\n",
            "8/8 [==============================] - 8s 1s/step - loss: 0.0068 - accuracy: 0.9978 - val_loss: 2.5464 - val_accuracy: 0.8164\n",
            "Epoch 9/15\n",
            "8/8 [==============================] - 8s 1s/step - loss: 0.0017 - accuracy: 1.0000 - val_loss: 3.5773 - val_accuracy: 0.7812\n",
            "Epoch 10/15\n",
            "8/8 [==============================] - 9s 1s/step - loss: 9.8592e-04 - accuracy: 1.0000 - val_loss: 3.8810 - val_accuracy: 0.7852\n",
            "Epoch 11/15\n",
            "8/8 [==============================] - 8s 1s/step - loss: 1.3604 - accuracy: 0.9188 - val_loss: 1.2780 - val_accuracy: 0.8281\n",
            "Epoch 12/15\n",
            "8/8 [==============================] - 8s 995ms/step - loss: 0.0215 - accuracy: 0.9956 - val_loss: 1.7992 - val_accuracy: 0.8398\n",
            "Epoch 13/15\n",
            "8/8 [==============================] - 9s 1s/step - loss: 0.0088 - accuracy: 0.9980 - val_loss: 2.0896 - val_accuracy: 0.8438\n",
            "Epoch 14/15\n",
            "8/8 [==============================] - 8s 1s/step - loss: 0.0033 - accuracy: 1.0000 - val_loss: 2.0530 - val_accuracy: 0.8477\n",
            "Epoch 15/15\n",
            "8/8 [==============================] - 8s 1s/step - loss: 0.0018 - accuracy: 1.0000 - val_loss: 2.4722 - val_accuracy: 0.8242\n"
          ]
        }
      ]
    },
    {
      "cell_type": "code",
      "source": [
        ""
      ],
      "metadata": {
        "id": "c1P7uY2xaG2P"
      },
      "execution_count": 17,
      "outputs": []
    },
    {
      "cell_type": "code",
      "source": [
        "import numpy as np\n",
        "from google.colab import files\n",
        "from keras.preprocessing import image\n",
        "\n",
        "uploaded = files.upload()\n",
        "\n",
        "for fn in uploaded.keys():\n",
        " \n",
        "  # predicting images\n",
        "  path = '/content/' + fn\n",
        "  img = image.load_img(path, target_size=(300, 300))\n",
        "  x = image.img_to_array(img)\n",
        "  x /= 255\n",
        "  x = np.expand_dims(x, axis=0)\n",
        "\n",
        "  images = np.vstack([x])\n",
        "  classes = model.predict(images, batch_size=10)\n",
        "  print(classes[0])\n",
        "    \n",
        "  if classes[0]>0.5:\n",
        "    print(fn + \" is a human\")\n",
        "  else:\n",
        "    print(fn + \" is a horse\")"
      ],
      "metadata": {
        "colab": {
          "resources": {
            "http://localhost:8080/nbextensions/google.colab/files.js": {
              "data": "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",
              "ok": true,
              "headers": [
                [
                  "content-type",
                  "application/javascript"
                ]
              ],
              "status": 200,
              "status_text": ""
            }
          },
          "base_uri": "https://localhost:8080/",
          "height": 109
        },
        "id": "K11UdMdfUgtm",
        "outputId": "ee25c77a-0984-4788-97d6-28cda4360f07"
      },
      "execution_count": 18,
      "outputs": [
        {
          "output_type": "display_data",
          "data": {
            "text/html": [
              "\n",
              "     <input type=\"file\" id=\"files-cbcef2ad-9c81-49b3-9638-f30c5ec5d7c7\" name=\"files[]\" multiple disabled\n",
              "        style=\"border:none\" />\n",
              "     <output id=\"result-cbcef2ad-9c81-49b3-9638-f30c5ec5d7c7\">\n",
              "      Upload widget is only available when the cell has been executed in the\n",
              "      current browser session. Please rerun this cell to enable.\n",
              "      </output>\n",
              "      <script src=\"/nbextensions/google.colab/files.js\"></script> "
            ],
            "text/plain": [
              "<IPython.core.display.HTML object>"
            ]
          },
          "metadata": {}
        },
        {
          "output_type": "stream",
          "name": "stdout",
          "text": [
            "Saving horse_test.png to horse_test (3).png\n",
            "[1.9382655e-21]\n",
            "horse_test.png is a horse\n"
          ]
        }
      ]
    },
    {
      "cell_type": "code",
      "source": [
        ""
      ],
      "metadata": {
        "id": "HooSt_nna5j0"
      },
      "execution_count": null,
      "outputs": []
    }
  ]
}