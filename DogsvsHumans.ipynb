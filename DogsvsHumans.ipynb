{
  "nbformat": 4,
  "nbformat_minor": 0,
  "metadata": {
    "colab": {
      "name": "DogsvsHumans.ipynb",
      "provenance": [],
      "collapsed_sections": [],
      "authorship_tag": "ABX9TyNi1hnogfkCQz3hGJLA/09+",
      "include_colab_link": true
    },
    "kernelspec": {
      "name": "python3",
      "display_name": "Python 3"
    },
    "language_info": {
      "name": "python"
    },
    "accelerator": "GPU"
  },
  "cells": [
    {
      "cell_type": "markdown",
      "metadata": {
        "id": "view-in-github",
        "colab_type": "text"
      },
      "source": [
        "<a href=\"https://colab.research.google.com/github/Hardikr23/tensorflow_codes/blob/main/DogsvsHumans.ipynb\" target=\"_parent\"><img src=\"https://colab.research.google.com/assets/colab-badge.svg\" alt=\"Open In Colab\"/></a>"
      ]
    },
    {
      "cell_type": "code",
      "execution_count": 1,
      "metadata": {
        "colab": {
          "base_uri": "https://localhost:8080/"
        },
        "id": "YK_3vHy7Ylgy",
        "outputId": "fd221263-a006-4c57-b07f-18c9277bc29c"
      },
      "outputs": [
        {
          "output_type": "stream",
          "name": "stdout",
          "text": [
            "--2022-03-07 23:16:46--  https://storage.googleapis.com/mledu-datasets/cats_and_dogs_filtered.zip\n",
            "Resolving storage.googleapis.com (storage.googleapis.com)... 74.125.133.128, 74.125.140.128, 108.177.15.128, ...\n",
            "Connecting to storage.googleapis.com (storage.googleapis.com)|74.125.133.128|:443... connected.\n",
            "HTTP request sent, awaiting response... 200 OK\n",
            "Length: 68606236 (65M) [application/zip]\n",
            "Saving to: ‘cats_and_dogs_filtered.zip’\n",
            "\n",
            "cats_and_dogs_filte 100%[===================>]  65.43M   178MB/s    in 0.4s    \n",
            "\n",
            "2022-03-07 23:16:46 (178 MB/s) - ‘cats_and_dogs_filtered.zip’ saved [68606236/68606236]\n",
            "\n"
          ]
        }
      ],
      "source": [
        "!wget --no-check-certificate https://storage.googleapis.com/mledu-datasets/cats_and_dogs_filtered.zip"
      ]
    },
    {
      "cell_type": "code",
      "source": [
        "import zipfile\n",
        "\n",
        "# Unzip the archive\n",
        "local_zip = './cats_and_dogs_filtered.zip'\n",
        "zip_ref = zipfile.ZipFile(local_zip, 'r')\n",
        "zip_ref.extractall()\n",
        "\n",
        "zip_ref.close()"
      ],
      "metadata": {
        "id": "sb5un9jBY1MF"
      },
      "execution_count": 2,
      "outputs": []
    },
    {
      "cell_type": "code",
      "source": [
        "import os\n",
        "\n",
        "base_dir = \"cats_and_dogs_filtered\"\n",
        "\n",
        "train_path = os.path.join(base_dir,\"train\")\n",
        "val_path = os.path.join(base_dir,\"validation\")\n",
        "\n",
        "# print(os.listdir(train_path))"
      ],
      "metadata": {
        "id": "JVT3t0nqY7tv"
      },
      "execution_count": 5,
      "outputs": []
    },
    {
      "cell_type": "code",
      "source": [
        "# from IPython.core.display import Image\n",
        "# Getting the images labelled using ImageGenerator from keras\n",
        "\n",
        "from tensorflow.keras.preprocessing.image import ImageDataGenerator\n",
        "\n",
        "train_img_gen = ImageDataGenerator(rescale = 1/255,\n",
        "                             rotation_range=40,\n",
        "                             width_shift_range=0.2,\n",
        "                             height_shift_range=0.2,\n",
        "                             shear_range=0.2,\n",
        "                             zoom_range=0.2,\n",
        "                             horizontal_flip=True,\n",
        "                             vertical_flip=True,\n",
        "                             fill_mode=\"nearest\")\n",
        "\n",
        "val_img_gen = ImageDataGenerator(rescale = 1/255)\n",
        "\n",
        "train_data = train_img_gen.flow_from_directory(train_path, batch_size=20, class_mode=\"binary\", target_size=(150,150))\n",
        "val_data = val_img_gen.flow_from_directory(val_path, batch_size=20, class_mode=\"binary\", target_size=(150,150))"
      ],
      "metadata": {
        "colab": {
          "base_uri": "https://localhost:8080/"
        },
        "id": "Vb9nEJWKaBVC",
        "outputId": "de82490c-22e8-48b3-86dd-6172840b6eb7"
      },
      "execution_count": 7,
      "outputs": [
        {
          "output_type": "stream",
          "name": "stdout",
          "text": [
            "Found 2000 images belonging to 2 classes.\n",
            "Found 1000 images belonging to 2 classes.\n"
          ]
        }
      ]
    },
    {
      "cell_type": "code",
      "source": [
        "from tensorflow.python.ops.gen_nn_ops import MaxPool\n",
        "# Defining the model to classify our images\n",
        "import tensorflow as tf\n",
        "from tensorflow import keras\n",
        "\n",
        "model = keras.models.Sequential([\n",
        "                      keras.layers.Conv2D(64, (3,3), input_shape=(150,150,3), activation=\"relu\"),\n",
        "                      keras.layers.MaxPooling2D(2,2),\n",
        "                      keras.layers.Conv2D(32, (3,3), activation=\"relu\"),\n",
        "                      keras.layers.MaxPooling2D(2,2),\n",
        "                      keras.layers.Conv2D(32, (3,3), activation=\"relu\"),\n",
        "                      keras.layers.MaxPooling2D(2,2),\n",
        "                      keras.layers.Conv2D(16, (3,3), activation=\"relu\"),\n",
        "                      keras.layers.MaxPooling2D(2,2),\n",
        "                      keras.layers.Conv2D(16, (3,3), activation=\"relu\"),\n",
        "                      keras.layers.MaxPooling2D(2,2),\n",
        "\n",
        "                      keras.layers.Flatten(),\n",
        "                      keras.layers.Dense(512, activation='relu'),\n",
        "                      keras.layers.Dense(1, activation='sigmoid')\n",
        "])"
      ],
      "metadata": {
        "id": "dqu-C7FfcLP3"
      },
      "execution_count": 8,
      "outputs": []
    },
    {
      "cell_type": "code",
      "source": [
        "model.summary()"
      ],
      "metadata": {
        "colab": {
          "base_uri": "https://localhost:8080/"
        },
        "id": "W4Q54DH3eOlq",
        "outputId": "183a7ba1-73ca-46bc-d131-9633dc459e52"
      },
      "execution_count": 9,
      "outputs": [
        {
          "output_type": "stream",
          "name": "stdout",
          "text": [
            "Model: \"sequential\"\n",
            "_________________________________________________________________\n",
            " Layer (type)                Output Shape              Param #   \n",
            "=================================================================\n",
            " conv2d (Conv2D)             (None, 148, 148, 64)      1792      \n",
            "                                                                 \n",
            " max_pooling2d (MaxPooling2D  (None, 74, 74, 64)       0         \n",
            " )                                                               \n",
            "                                                                 \n",
            " conv2d_1 (Conv2D)           (None, 72, 72, 32)        18464     \n",
            "                                                                 \n",
            " max_pooling2d_1 (MaxPooling  (None, 36, 36, 32)       0         \n",
            " 2D)                                                             \n",
            "                                                                 \n",
            " conv2d_2 (Conv2D)           (None, 34, 34, 32)        9248      \n",
            "                                                                 \n",
            " max_pooling2d_2 (MaxPooling  (None, 17, 17, 32)       0         \n",
            " 2D)                                                             \n",
            "                                                                 \n",
            " conv2d_3 (Conv2D)           (None, 15, 15, 16)        4624      \n",
            "                                                                 \n",
            " max_pooling2d_3 (MaxPooling  (None, 7, 7, 16)         0         \n",
            " 2D)                                                             \n",
            "                                                                 \n",
            " conv2d_4 (Conv2D)           (None, 5, 5, 16)          2320      \n",
            "                                                                 \n",
            " max_pooling2d_4 (MaxPooling  (None, 2, 2, 16)         0         \n",
            " 2D)                                                             \n",
            "                                                                 \n",
            " flatten (Flatten)           (None, 64)                0         \n",
            "                                                                 \n",
            " dense (Dense)               (None, 512)               33280     \n",
            "                                                                 \n",
            " dense_1 (Dense)             (None, 1)                 513       \n",
            "                                                                 \n",
            "=================================================================\n",
            "Total params: 70,241\n",
            "Trainable params: 70,241\n",
            "Non-trainable params: 0\n",
            "_________________________________________________________________\n"
          ]
        }
      ]
    },
    {
      "cell_type": "code",
      "source": [
        "from tensorflow.keras.optimizers import RMSprop\n",
        "\n",
        "model.compile(optimizer=RMSprop(learning_rate=0.001), loss=\"binary_crossentropy\", metrics=['accuracy'])\n"
      ],
      "metadata": {
        "id": "esjc5_t7fbiW"
      },
      "execution_count": 10,
      "outputs": []
    },
    {
      "cell_type": "code",
      "source": [
        "history = model.fit(train_data,\n",
        "          epochs=50,\n",
        "          steps_per_epoch=100,\n",
        "          validation_data=val_data,\n",
        "          validation_steps=50,\n",
        "          verbose=2\n",
        "          )"
      ],
      "metadata": {
        "colab": {
          "base_uri": "https://localhost:8080/"
        },
        "id": "jw3GeIFPhmvD",
        "outputId": "a5f26ada-eaec-46a2-92d1-4d1cfbb38f93"
      },
      "execution_count": 11,
      "outputs": [
        {
          "output_type": "stream",
          "name": "stdout",
          "text": [
            "Epoch 1/50\n",
            "100/100 - 31s - loss: 0.6956 - accuracy: 0.5040 - val_loss: 0.6910 - val_accuracy: 0.5720 - 31s/epoch - 312ms/step\n",
            "Epoch 2/50\n",
            "100/100 - 20s - loss: 0.6946 - accuracy: 0.5280 - val_loss: 0.6846 - val_accuracy: 0.6190 - 20s/epoch - 201ms/step\n",
            "Epoch 3/50\n",
            "100/100 - 20s - loss: 0.6794 - accuracy: 0.5775 - val_loss: 0.6787 - val_accuracy: 0.5480 - 20s/epoch - 203ms/step\n",
            "Epoch 4/50\n",
            "100/100 - 20s - loss: 0.6711 - accuracy: 0.5945 - val_loss: 0.6624 - val_accuracy: 0.5760 - 20s/epoch - 203ms/step\n",
            "Epoch 5/50\n",
            "100/100 - 21s - loss: 0.6606 - accuracy: 0.6105 - val_loss: 0.7366 - val_accuracy: 0.5220 - 21s/epoch - 205ms/step\n",
            "Epoch 6/50\n",
            "100/100 - 20s - loss: 0.6590 - accuracy: 0.6070 - val_loss: 0.6226 - val_accuracy: 0.6680 - 20s/epoch - 205ms/step\n",
            "Epoch 7/50\n",
            "100/100 - 20s - loss: 0.6452 - accuracy: 0.6195 - val_loss: 0.6407 - val_accuracy: 0.6150 - 20s/epoch - 203ms/step\n",
            "Epoch 8/50\n",
            "100/100 - 20s - loss: 0.6419 - accuracy: 0.6375 - val_loss: 0.7640 - val_accuracy: 0.5190 - 20s/epoch - 204ms/step\n",
            "Epoch 9/50\n",
            "100/100 - 20s - loss: 0.6348 - accuracy: 0.6395 - val_loss: 0.5878 - val_accuracy: 0.7000 - 20s/epoch - 202ms/step\n",
            "Epoch 10/50\n",
            "100/100 - 20s - loss: 0.6243 - accuracy: 0.6540 - val_loss: 0.5816 - val_accuracy: 0.7070 - 20s/epoch - 201ms/step\n",
            "Epoch 11/50\n",
            "100/100 - 20s - loss: 0.6350 - accuracy: 0.6610 - val_loss: 0.5857 - val_accuracy: 0.6880 - 20s/epoch - 202ms/step\n",
            "Epoch 12/50\n",
            "100/100 - 20s - loss: 0.6124 - accuracy: 0.6650 - val_loss: 0.7612 - val_accuracy: 0.5920 - 20s/epoch - 202ms/step\n",
            "Epoch 13/50\n",
            "100/100 - 20s - loss: 0.6195 - accuracy: 0.6685 - val_loss: 0.6118 - val_accuracy: 0.6290 - 20s/epoch - 203ms/step\n",
            "Epoch 14/50\n",
            "100/100 - 20s - loss: 0.6133 - accuracy: 0.6535 - val_loss: 0.6060 - val_accuracy: 0.6620 - 20s/epoch - 201ms/step\n",
            "Epoch 15/50\n",
            "100/100 - 20s - loss: 0.6031 - accuracy: 0.6825 - val_loss: 0.6155 - val_accuracy: 0.6560 - 20s/epoch - 199ms/step\n",
            "Epoch 16/50\n",
            "100/100 - 20s - loss: 0.6036 - accuracy: 0.6740 - val_loss: 0.5749 - val_accuracy: 0.6910 - 20s/epoch - 202ms/step\n",
            "Epoch 17/50\n",
            "100/100 - 20s - loss: 0.5996 - accuracy: 0.6830 - val_loss: 0.5574 - val_accuracy: 0.7270 - 20s/epoch - 201ms/step\n",
            "Epoch 18/50\n",
            "100/100 - 20s - loss: 0.5967 - accuracy: 0.6850 - val_loss: 0.5559 - val_accuracy: 0.7200 - 20s/epoch - 201ms/step\n",
            "Epoch 19/50\n",
            "100/100 - 20s - loss: 0.5983 - accuracy: 0.6755 - val_loss: 0.5800 - val_accuracy: 0.6850 - 20s/epoch - 202ms/step\n",
            "Epoch 20/50\n",
            "100/100 - 20s - loss: 0.5927 - accuracy: 0.6880 - val_loss: 0.7571 - val_accuracy: 0.5410 - 20s/epoch - 201ms/step\n",
            "Epoch 21/50\n",
            "100/100 - 20s - loss: 0.6071 - accuracy: 0.6845 - val_loss: 0.5572 - val_accuracy: 0.7060 - 20s/epoch - 202ms/step\n",
            "Epoch 22/50\n",
            "100/100 - 20s - loss: 0.5956 - accuracy: 0.6845 - val_loss: 0.5756 - val_accuracy: 0.6920 - 20s/epoch - 202ms/step\n",
            "Epoch 23/50\n",
            "100/100 - 20s - loss: 0.5926 - accuracy: 0.6905 - val_loss: 0.5510 - val_accuracy: 0.7220 - 20s/epoch - 202ms/step\n",
            "Epoch 24/50\n",
            "100/100 - 20s - loss: 0.5857 - accuracy: 0.6940 - val_loss: 0.5624 - val_accuracy: 0.7100 - 20s/epoch - 202ms/step\n",
            "Epoch 25/50\n",
            "100/100 - 21s - loss: 0.5705 - accuracy: 0.7010 - val_loss: 0.5478 - val_accuracy: 0.7270 - 21s/epoch - 207ms/step\n",
            "Epoch 26/50\n",
            "100/100 - 21s - loss: 0.5886 - accuracy: 0.6890 - val_loss: 0.7670 - val_accuracy: 0.5560 - 21s/epoch - 206ms/step\n",
            "Epoch 27/50\n",
            "100/100 - 20s - loss: 0.5779 - accuracy: 0.6990 - val_loss: 0.5788 - val_accuracy: 0.6910 - 20s/epoch - 204ms/step\n",
            "Epoch 28/50\n",
            "100/100 - 20s - loss: 0.5688 - accuracy: 0.7005 - val_loss: 0.5630 - val_accuracy: 0.7110 - 20s/epoch - 201ms/step\n",
            "Epoch 29/50\n",
            "100/100 - 20s - loss: 0.5618 - accuracy: 0.7175 - val_loss: 0.5623 - val_accuracy: 0.6980 - 20s/epoch - 202ms/step\n",
            "Epoch 30/50\n",
            "100/100 - 20s - loss: 0.5799 - accuracy: 0.6855 - val_loss: 0.5785 - val_accuracy: 0.6960 - 20s/epoch - 201ms/step\n",
            "Epoch 31/50\n",
            "100/100 - 22s - loss: 0.5694 - accuracy: 0.7100 - val_loss: 0.5227 - val_accuracy: 0.7440 - 22s/epoch - 221ms/step\n",
            "Epoch 32/50\n",
            "100/100 - 20s - loss: 0.5704 - accuracy: 0.7085 - val_loss: 0.5723 - val_accuracy: 0.6900 - 20s/epoch - 202ms/step\n",
            "Epoch 33/50\n",
            "100/100 - 20s - loss: 0.5679 - accuracy: 0.7105 - val_loss: 0.6023 - val_accuracy: 0.6920 - 20s/epoch - 200ms/step\n",
            "Epoch 34/50\n",
            "100/100 - 20s - loss: 0.5637 - accuracy: 0.7115 - val_loss: 0.5421 - val_accuracy: 0.7160 - 20s/epoch - 201ms/step\n",
            "Epoch 35/50\n",
            "100/100 - 20s - loss: 0.5589 - accuracy: 0.7170 - val_loss: 0.5281 - val_accuracy: 0.7330 - 20s/epoch - 201ms/step\n",
            "Epoch 36/50\n",
            "100/100 - 20s - loss: 0.5507 - accuracy: 0.7150 - val_loss: 0.5940 - val_accuracy: 0.6940 - 20s/epoch - 201ms/step\n",
            "Epoch 37/50\n",
            "100/100 - 20s - loss: 0.5570 - accuracy: 0.7130 - val_loss: 0.5403 - val_accuracy: 0.7200 - 20s/epoch - 202ms/step\n",
            "Epoch 38/50\n",
            "100/100 - 20s - loss: 0.5558 - accuracy: 0.7150 - val_loss: 0.5176 - val_accuracy: 0.7370 - 20s/epoch - 201ms/step\n",
            "Epoch 39/50\n",
            "100/100 - 20s - loss: 0.5464 - accuracy: 0.7215 - val_loss: 0.5242 - val_accuracy: 0.7310 - 20s/epoch - 202ms/step\n",
            "Epoch 40/50\n",
            "100/100 - 20s - loss: 0.5532 - accuracy: 0.7185 - val_loss: 0.5323 - val_accuracy: 0.7250 - 20s/epoch - 202ms/step\n",
            "Epoch 41/50\n",
            "100/100 - 20s - loss: 0.5481 - accuracy: 0.7200 - val_loss: 0.5213 - val_accuracy: 0.7540 - 20s/epoch - 202ms/step\n",
            "Epoch 42/50\n",
            "100/100 - 20s - loss: 0.5526 - accuracy: 0.7250 - val_loss: 0.5105 - val_accuracy: 0.7470 - 20s/epoch - 201ms/step\n",
            "Epoch 43/50\n",
            "100/100 - 20s - loss: 0.5382 - accuracy: 0.7335 - val_loss: 0.5303 - val_accuracy: 0.7310 - 20s/epoch - 200ms/step\n",
            "Epoch 44/50\n",
            "100/100 - 20s - loss: 0.5331 - accuracy: 0.7385 - val_loss: 0.5052 - val_accuracy: 0.7360 - 20s/epoch - 201ms/step\n",
            "Epoch 45/50\n",
            "100/100 - 20s - loss: 0.5235 - accuracy: 0.7500 - val_loss: 0.5455 - val_accuracy: 0.7370 - 20s/epoch - 202ms/step\n",
            "Epoch 46/50\n",
            "100/100 - 20s - loss: 0.5310 - accuracy: 0.7320 - val_loss: 0.5678 - val_accuracy: 0.7200 - 20s/epoch - 201ms/step\n",
            "Epoch 47/50\n",
            "100/100 - 20s - loss: 0.5316 - accuracy: 0.7315 - val_loss: 0.5182 - val_accuracy: 0.7420 - 20s/epoch - 203ms/step\n",
            "Epoch 48/50\n",
            "100/100 - 20s - loss: 0.5350 - accuracy: 0.7400 - val_loss: 0.5243 - val_accuracy: 0.7430 - 20s/epoch - 201ms/step\n",
            "Epoch 49/50\n",
            "100/100 - 20s - loss: 0.5423 - accuracy: 0.7340 - val_loss: 0.5685 - val_accuracy: 0.7180 - 20s/epoch - 201ms/step\n",
            "Epoch 50/50\n",
            "100/100 - 20s - loss: 0.5305 - accuracy: 0.7445 - val_loss: 0.5419 - val_accuracy: 0.7150 - 20s/epoch - 202ms/step\n"
          ]
        }
      ]
    },
    {
      "cell_type": "code",
      "source": [
        "model.evaluate(val_data)"
      ],
      "metadata": {
        "colab": {
          "base_uri": "https://localhost:8080/"
        },
        "id": "Ux24Xk6Knc1z",
        "outputId": "212509ae-fa08-4775-df52-43ddc6151d38"
      },
      "execution_count": 12,
      "outputs": [
        {
          "output_type": "stream",
          "name": "stdout",
          "text": [
            "50/50 [==============================] - 4s 70ms/step - loss: 0.5419 - accuracy: 0.7150\n"
          ]
        },
        {
          "output_type": "execute_result",
          "data": {
            "text/plain": [
              "[0.5419003367424011, 0.7149999737739563]"
            ]
          },
          "metadata": {},
          "execution_count": 12
        }
      ]
    },
    {
      "cell_type": "code",
      "source": [
        "import matplotlib.pyplot as plt\n",
        "\n",
        "# Plot the model results\n",
        "acc = history.history['accuracy']\n",
        "val_acc = history.history['val_accuracy']\n",
        "loss = history.history['loss']\n",
        "val_loss = history.history['val_loss']\n",
        "\n",
        "epochs = range(len(acc))\n",
        "\n",
        "plt.plot(epochs, acc, 'r', label='Training accuracy')\n",
        "plt.plot(epochs, val_acc, 'b', label='Validation accuracy')\n",
        "plt.title('Training and validation accuracy')\n",
        "\n",
        "plt.figure()\n",
        "\n",
        "plt.plot(epochs, loss, 'r', label='Training Loss')\n",
        "plt.plot(epochs, val_loss, 'b', label='Validation Loss')\n",
        "plt.title('Training and validation loss')\n",
        "plt.legend()\n",
        "\n",
        "plt.show()"
      ],
      "metadata": {
        "colab": {
          "base_uri": "https://localhost:8080/",
          "height": 545
        },
        "id": "APGTmF1TMxni",
        "outputId": "07fe875e-b241-4d95-f8db-fbadd7b39b5a"
      },
      "execution_count": 14,
      "outputs": [
        {
          "output_type": "display_data",
          "data": {
            "image/png": "[encoded data removed]",
            "text/plain": [
              "<Figure size 432x288 with 1 Axes>"
            ]
          },
          "metadata": {
            "needs_background": "light"
          }
        },
        {
          "output_type": "display_data",
          "data": {
            "image/png": "[encoded data removed]",
            "text/plain": [
              "<Figure size 432x288 with 1 Axes>"
            ]
          },
          "metadata": {
            "needs_background": "light"
          }
        }
      ]
    },
    {
      "cell_type": "code",
      "source": [
        ""
      ],
      "metadata": {
        "id": "TikV4yBpxxiU"
      },
      "execution_count": null,
      "outputs": []
    }
  ]
}